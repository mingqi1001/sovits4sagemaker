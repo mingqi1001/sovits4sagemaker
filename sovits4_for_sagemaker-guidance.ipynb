{
 "cells": [
  {
   "cell_type": "markdown",
   "metadata": {
    "id": "fHaw6hGEa_Nk",
    "tags": []
   },
   "source": [
    "# **Initialize environment**"
   ]
  },
  {
   "cell_type": "code",
   "execution_count": 4,
   "metadata": {
    "id": "0gQcIZ8RsOkn",
    "scrolled": true,
    "tags": []
   },
   "outputs": [
    {
     "name": "stdout",
     "output_type": "stream",
     "text": [
      "Wed Nov 29 08:30:06 2023       \n",
      "+---------------------------------------------------------------------------------------+\n",
      "| NVIDIA-SMI 535.104.12             Driver Version: 535.104.12   CUDA Version: 12.2     |\n",
      "|-----------------------------------------+----------------------+----------------------+\n",
      "| GPU  Name                 Persistence-M | Bus-Id        Disp.A | Volatile Uncorr. ECC |\n",
      "| Fan  Temp   Perf          Pwr:Usage/Cap |         Memory-Usage | GPU-Util  Compute M. |\n",
      "|                                         |                      |               MIG M. |\n",
      "|=========================================+======================+======================|\n",
      "|   0  NVIDIA A10G                    On  | 00000000:00:1E.0 Off |                    0 |\n",
      "|  0%   17C    P8              15W / 300W |      2MiB / 23028MiB |      0%      Default |\n",
      "|                                         |                      |                  N/A |\n",
      "+-----------------------------------------+----------------------+----------------------+\n",
      "                                                                                         \n",
      "+---------------------------------------------------------------------------------------+\n",
      "| Processes:                                                                            |\n",
      "|  GPU   GI   CI        PID   Type   Process name                            GPU Memory |\n",
      "|        ID   ID                                                             Usage      |\n",
      "|=======================================================================================|\n",
      "|  No running processes found                                                           |\n",
      "+---------------------------------------------------------------------------------------+\n"
     ]
    }
   ],
   "source": [
    "#@title Connect to colab runtime and check GPU\n",
    "\n",
    "#@markdown # Connect to colab runtime and check GPU\n",
    "\n",
    "#@markdown\n",
    "\n",
    "#需成功执行一次，\n",
    "\n",
    "!nvidia-smi\n",
    "!sudo cp  /home/ec2-user/anaconda3/envs/pytorch_p310/lib/libstdc++.so.6.0.32  /usr/lib64/\n",
    "!sudo ln -sf /usr/lib64/libstdc++.so.6.0.32  /usr/lib64/libstdc++.so.6\n",
    "\n",
    "#如果目录存在偏差请执行如下两个命令进行对其查找\n",
    "# ls -l /usr/lib64/libstdc++.so*\n",
    "# sudo find / -name libstdc++.so.6*\n"
   ]
  },
  {
   "cell_type": "code",
   "execution_count": null,
   "metadata": {
    "id": "0YUGpYrXhMck",
    "tags": []
   },
   "outputs": [],
   "source": [
    "#@title Clone repository and install requirements\n",
    "\n",
    "#@markdown # Clone repository and install requirements\n",
    "\n",
    "#@markdown\n",
    "\n",
    "#@markdown ### After the execution is completed, the runtime will **automatically restart**\n",
    "\n",
    "#@markdown\n",
    "\n",
    "!git clone https://github.com/svc-develop-team/sovits4sagemaker\n",
    "\n",
    "# %cd /content/sovits4sagemaker\n",
    "%cd /home/ec2-user/SageMaker/sovits4sagemaker\n",
    "%pip install --upgrade pip setuptools\n",
    "%pip install -r requirements.txt --extra-index-url https://download.pytorch.org/whl/cu118\n",
    "exit()"
   ]
  },
  {
   "cell_type": "code",
   "execution_count": null,
   "metadata": {
    "id": "G_PMPCN6wvgZ"
   },
   "outputs": [],
   "source": [
    "#@title Get pretrained model(Optional but strongly recommend).\n",
    "\n",
    "#@markdown # Get pretrained model(Optional but strongly recommend).\n",
    "\n",
    "#@markdown\n",
    "\n",
    "#@markdown - Pre-trained model files: `G_0.pth` `D_0.pth`\n",
    "#@markdown   - Place them under logs/44k/ \n",
    "\n",
    "#@markdown Get them from svc-develop-team(TBD) or anywhere else.\n",
    "\n",
    "#@markdown Although the pretrained model generally does not cause any copyright problems, please pay attention to it. For example, ask the author in advance, or the author has indicated the feasible use in the description clearly.\n",
    "\n",
    "download_pretrained_model = True #@param {type:\"boolean\"}\n",
    "D_0_URL = \"https://huggingface.co/datasets/ms903/sovits4.0-768vec-layer12/resolve/main/sovits_768l12_pre_large_320k/clean_D_320000.pth\" #@param [\"https://huggingface.co/datasets/ms903/sovits4.0-768vec-layer12/resolve/main/sovits_768l12_pre_large_320k/clean_D_320000.pth\", \"https://huggingface.co/1asbgdh/sovits4.0-volemb-vec768/resolve/main/clean_D_320000.pth\", \"https://huggingface.co/datasets/ms903/sovits4.0-768vec-layer12/resolve/main/vol_emb/clean_D_320000.pth\"] {allow-input: true}\n",
    "G_0_URL = \"https://huggingface.co/datasets/ms903/sovits4.0-768vec-layer12/resolve/main/sovits_768l12_pre_large_320k/clean_G_320000.pth\" #@param [\"https://huggingface.co/datasets/ms903/sovits4.0-768vec-layer12/resolve/main/sovits_768l12_pre_large_320k/clean_G_320000.pth\", \"https://huggingface.co/1asbgdh/sovits4.0-volemb-vec768/resolve/main/clean_G_320000.pth\", \"https://huggingface.co/datasets/ms903/sovits4.0-768vec-layer12/resolve/main/vol_emb/clean_G_320000.pth\"] {allow-input: true}\n",
    "\n",
    "download_pretrained_diffusion_model = True #@param {type:\"boolean\"}\n",
    "diff_model_URL = \"https://huggingface.co/datasets/ms903/Diff-SVC-refactor-pre-trained-model/resolve/main/fix_pitch_add_vctk_600k/model_0.pt\" #@param {type:\"string\"}\n",
    "\n",
    "%cd /home/ec2-user/SageMaker/sovits4sagemaker\n",
    "\n",
    "if download_pretrained_model:\n",
    "    !curl -L {D_0_URL} -o logs/44k/D_0.pth\n",
    "    !md5sum logs/44k/D_0.pth\n",
    "    !curl -L {G_0_URL} -o logs/44k/G_0.pth\n",
    "    !md5sum logs/44k/G_0.pth\n",
    "\n",
    "if download_pretrained_diffusion_model:\n",
    "    !mkdir -p logs/44k/diffusion\n",
    "    !curl -L {diff_model_URL} -o logs/44k/diffusion/model_0.pt\n",
    "    !md5sum logs/44k/diffusion/model_0.pt"
   ]
  },
  {
   "cell_type": "markdown",
   "metadata": {
    "id": "k1qadJBFehMo"
   },
   "source": [
    "# **Dataset preprocessing**"
   ]
  },
  {
   "cell_type": "markdown",
   "metadata": {
    "id": "kBlju6Q3lSM6",
    "tags": []
   },
   "source": [
    "目的是把需要训练的声音放到(dataset_raw/)目录中\n",
    "\n",
    "文件结构如下: 这里一定要注意speaker/speaker0等是重要标识\n",
    "\n",
    "```\n",
    "YourforlderforSingleSpeakers\n",
    "└───speaker\n",
    "    ├───xxx1-xxx1.wav\n",
    "    ├───...\n",
    "    └───Lxx-0xx8.wav\n",
    "```\n",
    "\n",
    "```\n",
    "YourFolderforMultipleSpeakers\n",
    "├───speaker0\n",
    "│   ├───xxx1-xxx1.wav\n",
    "│   ├───...\n",
    "│   └───Lxx-0xx8.wav\n",
    "└───speaker1\n",
    "    ├───xx2-0xxx2.wav\n",
    "    ├───...\n",
    "    └───xxx7-xxx007.wav\n",
    "```\n",
    "\n",
    "**Even if there is only one speaker, a folder named `{speaker_name}` is needed.**"
   ]
  },
  {
   "cell_type": "code",
   "execution_count": null,
   "metadata": {},
   "outputs": [],
   "source": [
    "# 克隆slide tools\n",
    "%cd /home/ec2-user/SageMaker\n",
    "%git clone https://github.com/openvpi/audio-slicer"
   ]
  },
  {
   "cell_type": "code",
   "execution_count": null,
   "metadata": {},
   "outputs": [],
   "source": [
    "#更新必要的音频处理相关的库\n",
    "%pip install numpy\n",
    "%pip install librosa\n",
    "%pip install soundfile"
   ]
  },
  {
   "cell_type": "code",
   "execution_count": null,
   "metadata": {},
   "outputs": [],
   "source": [
    "%mkdir /home/ec2-user/SageMaker/audio-slicer/audiowav\n",
    "\n",
    "#运行后将wav文件拷贝到audio-slicer/audiowav目录下"
   ]
  },
  {
   "cell_type": "code",
   "execution_count": null,
   "metadata": {},
   "outputs": [],
   "source": [
    "%cd /home/ec2-user/SageMaker/audio-slicer/\n",
    "SPEAKER_NAME = \"speak1\" #需要克隆的人的标志\n",
    "import os\n",
    "if not os.path.exists(\"/home/ec2-user/SageMaker/audio-slicer/dataset_raw\"):\n",
    "    %mkdir /home/ec2-user/SageMaker/audio-slicer/dataset_raw\n",
    "if not os.path.exists(\"/home/ec2-user/SageMaker/audio-slicer/dataset_raw/\"+SPEAKER_NAME):\n",
    "    %mkdir /home/ec2-user/SageMaker/audio-slicer/dataset_raw/{SPEAKER_NAME}\n",
    "\n",
    "\n",
    "import librosa  # Optional. Use any library you like to read audio files.\n",
    "import soundfile  # Optional. Use any library you like to write audio files.\n",
    "\n",
    "from slicer2 import Slicer\n",
    "\n",
    "audio, sr = librosa.load('audiowav/example.wav', sr=None, mono=False)  # Load an audio file with librosa. \n",
    "slicer = Slicer(\n",
    "    sr=sr,\n",
    "    threshold=-40,\n",
    "    min_length=5000,\n",
    "    min_interval=300,\n",
    "    hop_size=10,\n",
    "    max_sil_kept=500\n",
    ")\n",
    "chunks = slicer.slice(audio)\n",
    "for i, chunk in enumerate(chunks):\n",
    "    if len(chunk.shape) > 1:\n",
    "        chunk = chunk.T  # Swap axes if the audio is stereo.\n",
    "    soundfile.write(f'/home/ec2-user/SageMaker/audio-slicer/dataset_raw/{SPEAKER_NAME}/{i}{SPEAKER_NAME}_{i}.wav', chunk, sr)"
   ]
  },
  {
   "cell_type": "code",
   "execution_count": null,
   "metadata": {},
   "outputs": [],
   "source": [
    "#处理的音频拷贝到训练目录下\n",
    "%cp -vr /home/ec2-user/SageMaker/audio-slicer/dataset_raw /home/ec2-user/SageMaker/sovits4sagemaker/"
   ]
  },
  {
   "cell_type": "code",
   "execution_count": null,
   "metadata": {
    "id": "_ThKTzYs5CfL"
   },
   "outputs": [],
   "source": [
    "#@title Resample to 44100Hz and mono\n",
    "\n",
    "#@markdown # Resample to 44100Hz and mono\n",
    "\n",
    "#@markdown\n",
    "\n",
    "%cd /home/ec2-user/SageMaker/sovits4sagemaker\n",
    "!python resample.py"
   ]
  },
  {
   "cell_type": "code",
   "execution_count": null,
   "metadata": {
    "id": "ZThaMxmIJgWy"
   },
   "outputs": [],
   "source": [
    "#@title Train cluster model (Optional)\n",
    "\n",
    "#@markdown # Train cluster model (Optional)\n",
    "\n",
    "#@markdown #### Details see [README.md#cluster-based-timbre-leakage-control](https://github.com/svc-develop-team/sovits4sagemaker#cluster-based-timbre-leakage-control)\n",
    "\n",
    "#@markdown\n",
    "\n",
    "%cd /home/ec2-user/SageMaker/sovits4sagemaker\n",
    "!python cluster/train_cluster.py --gpu"
   ]
  },
  {
   "cell_type": "code",
   "execution_count": null,
   "metadata": {
    "id": "svITReeL5N8K"
   },
   "outputs": [],
   "source": [
    "#@title Divide filelists and generate config.json\n",
    "\n",
    "#@markdown # Divide filelists and generate config.json\n",
    "\n",
    "#@markdown\n",
    "\n",
    "%cd /home/ec2-user/SageMaker/sovits4sagemaker\n",
    "%mkdir -p /home/ec2-user/SageMaker/sovits4sagemaker/dataset/44k\n",
    "\n",
    "speech_encoder = \"vec768l12\" #@param [\"vec768l12\", \"vec256l9\", \"hubertsoft\", \"whisper-ppg\", \"whisper-ppg-large\"]\n",
    "use_vol_aug = False #@param {type:\"boolean\"}\n",
    "vol_aug = \"--vol_aug\" if use_vol_aug else \"\"\n",
    "\n",
    "from pretrain.meta import download_dict\n",
    "download_dict = download_dict()\n",
    "\n",
    "url = download_dict[speech_encoder][\"url\"]\n",
    "output = download_dict[speech_encoder][\"output\"]\n",
    "\n",
    "import os\n",
    "if not os.path.exists(output):\n",
    "  !curl -L {url} -o {output}\n",
    "  !md5sum {output}\n",
    "\n",
    "!python preprocess_flist_config.py --speech_encoder={speech_encoder} {vol_aug}"
   ]
  },
  {
   "cell_type": "markdown",
   "metadata": {
    "id": "ENoH-pShel7w"
   },
   "source": [
    "# **Trainning**"
   ]
  },
  {
   "cell_type": "code",
   "execution_count": null,
   "metadata": {},
   "outputs": [],
   "source": [
    "#@title Train index model (Optional)\n",
    "\n",
    "#@markdown # Train index model (Optional)\n",
    "\n",
    "#@markdown #### Details see [README.md#feature-retrieval](https://github.com/svc-develop-team/sovits4sagemaker#feature-retrieval)\n",
    "\n",
    "#@markdown\n",
    "\n",
    "%cd /home/ec2-user/SageMaker/sovits4sagemaker\n",
    "!python train_index.py -c configs/config.json"
   ]
  },
  {
   "cell_type": "code",
   "execution_count": null,
   "metadata": {
    "id": "xHUXMi836DMe"
   },
   "outputs": [],
   "source": [
    "#@title Generate hubert and f0\n",
    "\n",
    "#@markdown # Generate hubert and f0\n",
    "\n",
    "#@markdown\n",
    "%cd /home/ec2-user/SageMaker/sovits4sagemaker\n",
    "\n",
    "f0_predictor = \"crepe\" #@param [\"crepe\", \"pm\", \"dio\", \"harvest\", \"rmvpe\", \"fcpe\"]\n",
    "use_diff = True #@param {type:\"boolean\"}\n",
    "\n",
    "import os\n",
    "if f0_predictor == \"rmvpe\" and not os.path.exists(\"./pretrain/rmvpe.pt\"):\n",
    "  !curl -L https://huggingface.co/datasets/ylzz1997/rmvpe_pretrain_model/resolve/main/rmvpe.pt -o pretrain/rmvpe.pt\n",
    "\n",
    "if f0_predictor == \"fcpe\" and not os.path.exists(\"./pretrain/fcpe.pt\"):\n",
    "  !curl -L https://huggingface.co/datasets/ylzz1997/rmvpe_pretrain_model/resolve/main/fcpe.pt -o pretrain/fcpe.pt\n",
    "\n",
    "\n",
    "diff_param = \"\"\n",
    "if use_diff:\n",
    "  diff_param = \"--use_diff\"\n",
    "\n",
    "  if not os.path.exists(\"./pretrain/nsf_hifigan/model\"):\n",
    "    !curl -L https://github.com/openvpi/vocoders/releases/download/nsf-hifigan-v1/nsf_hifigan_20221211.zip -o nsf_hifigan_20221211.zip\n",
    "    !md5sum nsf_hifigan_20221211.zip\n",
    "    !unzip nsf_hifigan_20221211.zip\n",
    "    !rm -rf pretrain/nsf_hifigan\n",
    "    !mv -v nsf_hifigan pretrain\n",
    "\n",
    "!python preprocess_hubert_f0.py --f0_predictor={f0_predictor} {diff_param}"
   ]
  },
  {
   "cell_type": "code",
   "execution_count": null,
   "metadata": {
    "id": "-hEFFTCfZf57"
   },
   "outputs": [],
   "source": [
    "#@title Start training\n",
    "\n",
    "#@markdown # Start training\n",
    "\n",
    "#@markdown If you want to use pre-trained models, upload them to logs/44K下\n",
    "\n",
    "#@markdown\n",
    "\n",
    "%cd /home/ec2-user/SageMaker/sovits4sagemaker\n",
    "\n",
    "#@markdown Whether to enable tensorboard\n",
    "tensorboard_on = False  #@param {type:\"boolean\"}\n",
    "\n",
    "if tensorboard_on:\n",
    "  %load_ext tensorboard\n",
    "  %tensorboard --logdir logs/44k\n",
    "\n",
    "config_path = \"/home/ec2-user/SageMaker/sovits4sagemaker/configs/config.json\"\n",
    "\n",
    "from pretrain.meta import get_speech_encoder\n",
    "url, output = get_speech_encoder(config_path)\n",
    "\n",
    "import os\n",
    "if not os.path.exists(output):\n",
    "  !curl -L {url} -o {output}\n",
    "\n",
    "!python train.py -c {config_path} -m 44k"
   ]
  },
  {
   "cell_type": "code",
   "execution_count": null,
   "metadata": {},
   "outputs": [],
   "source": [
    "#@title Train diffusion model (Optional)\n",
    "\n",
    "#@markdown # Train diffusion model (Optional)\n",
    "\n",
    "#@markdown #### Details see [README.md#-about-shallow-diffusion](https://github.com/svc-develop-team/sovits4sagemaker#-about-shallow-diffusion)\n",
    "\n",
    "#@markdown\n",
    "\n",
    "%cd /home/ec2-user/SageMaker/sovits4sagemaker\n",
    "\n",
    "import os\n",
    "if not os.path.exists(\"./pretrain/nsf_hifigan/model\"):\n",
    "  !curl -L https://github.com/openvpi/vocoders/releases/download/nsf-hifigan-v1/nsf_hifigan_20221211.zip -o nsf_hifigan_20221211.zip\n",
    "  !unzip nsf_hifigan_20221211.zip\n",
    "  !rm -rf pretrain/nsf_hifigan\n",
    "  !mv -v nsf_hifigan pretrain\n",
    "\n",
    "#@markdown Whether to enable tensorboard\n",
    "tensorboard_on = False  #@param {type:\"boolean\"}\n",
    "\n",
    "if tensorboard_on:\n",
    "  %load_ext tensorboard\n",
    "  %tensorboard --logdir logs/44k\n",
    "\n",
    "!python train_diff.py -c configs/diffusion.yaml"
   ]
  },
  {
   "cell_type": "markdown",
   "metadata": {
    "tags": []
   },
   "source": [
    "# **多国语音**\n",
    "一共支持32种语言，具体使用那种语言请查阅\n",
    "\n",
    "https://docs.aws.amazon.com/polly/latest/dg/ntts-voices-main.html\n"
   ]
  },
  {
   "cell_type": "code",
   "execution_count": null,
   "metadata": {
    "tags": []
   },
   "outputs": [],
   "source": [
    "#使用polly可以产生36个国家语言，因为这里使用声纹克隆所以推荐的语音角色如下\n",
    "\n",
    "import os\n",
    "import time\n",
    "import json\n",
    "import boto3\n",
    "from contextlib import closing\n",
    "import tempfile\n",
    "import urllib3\n",
    "from botocore.exceptions import ClientError\n",
    "import json\n",
    "import decimal\n",
    "text='مرحبا بالجميع ، أنا مساعد صوت Amazon Web Services يمكنه قراءة معظم لغات ولهجات العالم ، ويمكنه محاكاة بصمة صوت شخص معين'\n",
    "languageCode = 'ar-AE' #语种\n",
    "voiceId = 'Hala' #性别角色\n",
    "speed_prefix = '<prosody rate=\"fast\">' #变速\n",
    "ssmltext='<speak>'+speed_prefix+text+'</prosody></speak>'\n",
    "c = boto3.client('polly',region_name='us-east-1')\n",
    "\n",
    "    \n",
    "try:\n",
    "    response = c.synthesize_speech(Engine='neural',\n",
    "                         LanguageCode=languageCode, \n",
    "                         OutputFormat='mp3',\n",
    "                         Text=ssmltext, \n",
    "                         TextType='ssml',\n",
    "                         VoiceId=voiceId)\n",
    "except (BotoCoreError, ClientError) as error:\n",
    "    # The service returned an error, exit gracefully\n",
    "    print(error)\n",
    "    sys.exit(-1)\n",
    "    \n",
    "if \"AudioStream\" in response:\n",
    "    # Note: Closing the stream is important because the service throttles on the\n",
    "    # number of parallel connections. Here we are using contextlib.closing to\n",
    "    # ensure the close method of the stream object will be called automatically\n",
    "    # at the end of the with statement's scope.\n",
    "        with closing(response[\"AudioStream\"]) as stream:\n",
    "           output = os.path.join(\"/home/ec2-user/SageMaker/sovits4sagemaker/raw\", \"speech.mp3\")\n",
    "           try:\n",
    "            # Open a file for writing the output as a binary stream\n",
    "                with open(output, \"wb\") as file:\n",
    "                   file.write(stream.read())\n",
    "           except IOError as error:\n",
    "              # Could not write to file, exit gracefully\n",
    "              print(error)\n",
    "              sys.exit(-1)\n",
    "\n",
    "else:\n",
    "    # The response didn't contain audio data, exit gracefully\n",
    "    print(\"Could not stream audio\")\n",
    "    sys.exit(-1)\n",
    "\n",
    "\n",
    "    \n",
    "\n"
   ]
  },
  {
   "cell_type": "markdown",
   "metadata": {
    "id": "oCnbX-OT897k",
    "tags": []
   },
   "source": [
    "# **Inference**\n",
    "### Upload wav files from this notebook\n"
   ]
  },
  {
   "cell_type": "code",
   "execution_count": null,
   "metadata": {},
   "outputs": [],
   "source": [
    "#此步只需成功执行一次\n",
    "#title Download nsf_hifigan if you need it\n",
    "\n",
    "%cd /home/ec2-user/SageMaker/sovits4sagemaker\n",
    "!curl -L https://github.com/openvpi/vocoders/releases/download/nsf-hifigan-v1/nsf_hifigan_20221211.zip -o /home/ec2-user/SageMaker/sovits4sagemaker/nsf_hifigan_20221211.zip\n",
    "!unzip nsf_hifigan_20221211.zip\n",
    "!rm -rf pretrain/nsf_hifigan\n",
    "!mv -v nsf_hifigan pretrain\n"
   ]
  },
  {
   "cell_type": "code",
   "execution_count": null,
   "metadata": {
    "tags": []
   },
   "outputs": [],
   "source": [
    "#此步骤执行比较慢只需成功执行一次\n",
    "%conda install ffmpeg\n",
    "%conda install ffmpy\n",
    "%conda install ffprobe\n",
    "%conda install pydub "
   ]
  },
  {
   "cell_type": "code",
   "execution_count": null,
   "metadata": {
    "tags": []
   },
   "outputs": [],
   "source": [
    "#如果初始声音为mp3则执行此步骤\n",
    "\n",
    "%cd /home/ec2-user/SageMaker/sovits4sagemaker/raw\n",
    "\n",
    "\n",
    "from pydub import AudioSegment\n",
    "import wave\n",
    "\n",
    "# 读取mp3的波形数据\n",
    "sound = AudioSegment.from_file(\"/home/ec2-user/SageMaker/sovits4sagemaker/raw/speech.mp3\", format = 'MP3')\n",
    "\n",
    "f = wave.open(\"YourWAVFile.wav\", 'wb')\n",
    "f.setnchannels(1)   # 频道数\n",
    "f.setsampwidth(2)   # 量化位数\n",
    "f.setframerate(16000)   # 取样频率\n",
    "f.setnframes(len(sound._data))   # 取样点数，波形数据的长度\n",
    "f.writeframes(sound._data)   # 写入波形数据\n",
    "f.close()"
   ]
  },
  {
   "cell_type": "code",
   "execution_count": null,
   "metadata": {
    "id": "dYnKuKTIj3z1",
    "tags": []
   },
   "outputs": [],
   "source": [
    "#@title Start inference (and download)\n",
    "\n",
    "#@markdown # Start inference (and download)\n",
    "\n",
    "#@markdown Parameters see [README.MD#Inference](https://github.com/svc-develop-team/sovits4sagemaker#-inference)\n",
    "\n",
    "#@markdown\n",
    "\n",
    "wav_filename = \"YourWAVFile.wav\"  #@param {type:\"string\"}\n",
    "model_filename = \"G_800.pth\"  #@param {type:\"string\"}\n",
    "model_path = \"/home/ec2-user/SageMaker/sovits4sagemaker/logs/44k/\" + model_filename\n",
    "speaker = \"speak1\"  #@param {type:\"string\"}\n",
    "trans = \"0\"  #@param {type:\"string\"}\n",
    "cluster_infer_ratio = \"0\"  #@param {type:\"string\"}\n",
    "auto_predict_f0 = True  #@param {type:\"boolean\"}\n",
    "apf = \"\"\n",
    "if auto_predict_f0:\n",
    "  apf = \" -a \"\n",
    "\n",
    "f0_predictor = \"crepe\" #@param [\"crepe\", \"pm\", \"dio\", \"harvest\", \"rmvpe\", \"fcpe\"]\n",
    "\n",
    "enhance = False  #@param {type:\"boolean\"}\n",
    "ehc = \"\"\n",
    "if enhance:\n",
    "  ehc = \" -eh \"\n",
    "#@markdown\n",
    "\n",
    "#@markdown Generally keep default:\n",
    "config_filename = \"config.json\"  #@param {type:\"string\"}\n",
    "config_path = \"/home/ec2-user/SageMaker/sovits4sagemaker/configs/\" + config_filename\n",
    "\n",
    "# from pretrain.meta import get_speech_encoder\n",
    "# url, output = get_speech_encoder(config_path)\n",
    "\n",
    "import os\n",
    "\n",
    "if f0_predictor == \"rmvpe\" and not os.path.exists(\"/home/ec2-user/SageMaker/sovits4sagemaker/pretrain/rmvpe.pt\"):\n",
    "  !curl -L https://huggingface.co/datasets/ylzz1997/rmvpe_pretrain_model/resolve/main/rmvpe.pt -o pretrain/rmvpe.pt\n",
    "\n",
    "if f0_predictor == \"fcpe\" and not os.path.exists(\"/home/ec2-user/SageMaker/sovits4sagemaker/pretrain/fcpe.pt\"):\n",
    "  !curl -L https://huggingface.co/datasets/ylzz1997/rmvpe_pretrain_model/resolve/main/fcpe.pt -o pretrain/fcpe.pt\n",
    "\n",
    "# if not os.path.exists(output):\n",
    "#   !curl -L {url} -o {output}\n",
    "\n",
    "kmeans_filenname = \"kmeans_10000.pt\"  #@param {type:\"string\"}\n",
    "kmeans_path = \"/home/ec2-user/SageMaker/sovits4sagemaker/logs/44k/\" + kmeans_filenname\n",
    "slice_db = \"-40\"  #@param {type:\"string\"}\n",
    "wav_format = \"wav\"  #@param {type:\"string\"}\n",
    "\n",
    "key = \"auto\" if auto_predict_f0 else f\"{trans}key\"\n",
    "cluster_name = \"\" if cluster_infer_ratio == \"0\" else f\"_{cluster_infer_ratio}\"\n",
    "isdiffusion = \"sovits\"\n",
    "wav_output = f\"/home/ec2-user/SageMaker/sovits4sagemaker/results/{wav_filename}_{key}_{speaker}{cluster_name}_{isdiffusion}_{f0_predictor}.{wav_format}\"\n",
    "\n",
    "%cd /home/ec2-user/SageMaker/sovits4sagemaker\n",
    "!python inference_main.py -n {wav_filename} -m {model_path} -s {speaker} -t {trans} -cr {cluster_infer_ratio} -c {config_path} -cm {kmeans_path} -sd {slice_db} -wf {wav_format} {apf} --f0_predictor={f0_predictor} {ehc}\n",
    "\n",
    "#@markdown\n",
    "\n"
   ]
  },
  {
   "cell_type": "code",
   "execution_count": null,
   "metadata": {},
   "outputs": [],
   "source": []
  }
 ],
 "metadata": {
  "accelerator": "GPU",
  "colab": {
   "provenance": [
    {
     "file_id": "19fxpo-ZoL_ShEUeZIZi6Di-YioWrEyhR",
     "timestamp": 1678516497580
    },
    {
     "file_id": "1rCUOOVG7-XQlVZuWRAj5IpGrMM8t07pE",
     "timestamp": 1673086970071
    },
    {
     "file_id": "1Ul5SmzWiSHBj0MaKA0B682C-RZKOycwF",
     "timestamp": 1670483515921
    }
   ]
  },
  "gpuClass": "standard",
  "kernelspec": {
   "display_name": "conda_tensorflow2_p310",
   "language": "python",
   "name": "conda_tensorflow2_p310"
  },
  "language_info": {
   "codemirror_mode": {
    "name": "ipython",
    "version": 3
   },
   "file_extension": ".py",
   "mimetype": "text/x-python",
   "name": "python",
   "nbconvert_exporter": "python",
   "pygments_lexer": "ipython3",
   "version": "3.10.13"
  }
 },
 "nbformat": 4,
 "nbformat_minor": 4
}
